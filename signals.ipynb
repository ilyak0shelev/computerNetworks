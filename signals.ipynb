{
 "cells": [
  {
   "cell_type": "code",
   "execution_count": null,
   "id": "5045084b-bd5b-45cc-8976-65bc1214396a",
   "metadata": {},
   "outputs": [],
   "source": [
    "import numpy as np\n",
    "import matplotlib\n",
    "import matplotlib.pyplot as plt\n",
    "import sounddevice as sd\n",
    "import time\n",
    "\n",
    "#duration = 0.6\n",
    "amplitude = 0.1\n",
    "#frequency = 293.6648\n",
    "fs = 80000\n",
    "\n",
    "mi = 329.630\n",
    "sol = 392\n",
    "re = 293.660\n",
    "do = 261.630\n",
    "si = 246.940\n",
    "\n",
    "def nt(note_fs, time):\n",
    "  timeSamples = np.arange(np.ceil(time * fs)) / fs\n",
    "  return amplitude * np.sin(2 * np.pi * note_fs * timeSamples)\n",
    "\n",
    "\n",
    "signalSumm = np.concatenate((nt(mi, 0.6), nt(mi, 0.4), nt(sol, 0.4), nt(mi, 0.4), nt(re, 0.5), nt(do, 0.6),\n",
    "                             nt(si, 0.5), nt(mi, 0.4), nt(mi, 0.4), nt(sol, 0.4), nt(mi, 0.4), nt(re, 0.4), nt(do, 0.4),\n",
    "                             nt(re, 0.4), nt(do, 0.3), nt(si, 0.5)), axis = 0)\n",
    "sd.play(signalSumm, fs)\n",
    "\n"
   ]
  }
 ],
 "metadata": {
  "kernelspec": {
   "display_name": "Python 3 (ipykernel)",
   "language": "python",
   "name": "python3"
  },
  "language_info": {
   "codemirror_mode": {
    "name": "ipython",
    "version": 3
   },
   "file_extension": ".py",
   "mimetype": "text/x-python",
   "name": "python",
   "nbconvert_exporter": "python",
   "pygments_lexer": "ipython3",
   "version": "3.9.7"
  }
 },
 "nbformat": 4,
 "nbformat_minor": 5
}
